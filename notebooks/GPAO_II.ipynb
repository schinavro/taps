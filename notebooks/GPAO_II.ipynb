{
 "cells": [
  {
   "cell_type": "markdown",
   "metadata": {},
   "source": [
    "# GPAO II\n",
    "\n",
    "We have pre-implemented automation code that does OIM addition to target energy adjusting. We use `GPAO` wrapper class that uses `DAO` as `real_finder`. \n",
    "\n",
    "\n",
    "\n",
    "Unfortunately, this process generates folder in the user's directory rather than put out info on the `sys.io`. That is because it genrates a lot of info and "
   ]
  },
  {
   "cell_type": "code",
   "execution_count": 1,
   "metadata": {},
   "outputs": [],
   "source": [
    "import numpy as np\n",
    "from taps.paths import Paths\n",
    "from taps.models import MullerBrown, Gaussian\n",
    "from taps.pathfinder import DAO, GPAO\n",
    "from taps.coords import Cartesian\n",
    "from taps.visualize import view\n",
    "from taps.ml.regressions import Regression\n",
    "from taps.projectors import Sine\n",
    "from taps.db import ImageDatabase\n",
    "\n",
    "# We are going to use only the 30% of the coordinate information\n",
    "name = \"AuGPAO\"\n",
    "#trialn = \"test9/\"\n",
    "trialn = \"test/\"\n",
    "#directory = name + '/'\n",
    "directory = './'\n",
    "\n",
    "\n",
    "N = 300\n",
    "\n",
    "x = np.linspace(-0.55822365, 0.6234994, N)\n",
    "y = np.linspace(1.44172582, 0.02803776, N)\n",
    "\n",
    "coords = Cartesian(coords=np.array([x, y]))\n",
    "\n",
    "Nk = N - 270\n",
    "prj = Sine(N=N, Nk=Nk, \n",
    "           init=coords.coords[..., 0].copy(), \n",
    "           fin=coords.coords[..., -1].copy())\n",
    "\n",
    "\n",
    "\n",
    "action_kwargs = {\n",
    "    'Onsager Machlup':{    \n",
    "        'gam': 1.,\n",
    "    },\n",
    "    'Energy Restraint':{\n",
    "        'muE': 1.,\n",
    "        'Et': -0.45\n",
    "    }\n",
    "}\n",
    "\n",
    "search_kwargs = {\"method\":\"L-BFGS-B\"}\n",
    "\n",
    "\n",
    "finder = DAO(action_kwargs=action_kwargs,\n",
    "             search_kwargs=search_kwargs, \n",
    "             prj=prj)\n",
    "\n",
    "maxtrial=200\n",
    "\n",
    "plot_kwargs = {\"savefig\":True, \"gaussian\": True, 'viewer': 'MullerBrown'}\n",
    "\n",
    "finder = GPAO(real_finder=finder, maxtrial=maxtrial, \n",
    "              logfile=directory+trialn + name +'.log',\n",
    "              label= directory + trialn + name,\n",
    "              phase_kwargs={\"Auto Et\":{'Et_tol':0.05, 'cov_tol':0.01, 'Etol': 0.05}, \n",
    "                                \"Auto Et\":{'Et_tol':0.05, 'cov_tol':0.01, 'Etol': 0.05}},\n",
    "              plot_kwargs=plot_kwargs)\n",
    "\n",
    "\n",
    "imgdb = ImageDatabase(filename=\"mullerbrown.db\")\n",
    "\n",
    "\n",
    "model = MullerBrown()\n",
    "\n",
    "model = Gaussian(real_model=model)\n",
    "\n",
    "paths = Paths(coords=coords, model=model, finder=finder, imgdb=imgdb)\n",
    "\n",
    "def regression(model, database):\n",
    "    from scipy.optimize import minimize, Bounds\n",
    "    from taps.models.gaussian import Likelihood\n",
    "    loss_fn = Likelihood(kernel=model.kernel, mean=model.mean, database=database, kernel_prj=model.prj)\n",
    "    x0 = model.kernel.get_hyperparameters()\n",
    "    # sigma_f, l^2, sigma_n^e, sigma_n^f\n",
    "    bounds = Bounds([1e-2, 1e-2, 1e-5, 1e-6], [5e1, 1e2, 1e-2, 1e-3])\n",
    "    res = minimize(loss_fn, x0, bounds=bounds, method='L-BFGS-B')\n",
    "    model.set_lambda(database, Θk=res.x)\n",
    "\n",
    "    \n",
    "paths.add_image_data(index=[0, coords.N//3, -1])\n",
    "regression(model, imgdb)\n",
    "paths.search()\n"
   ]
  },
  {
   "cell_type": "code",
   "execution_count": 3,
   "metadata": {},
   "outputs": [
    {
     "data": {
      "text/plain": [
       "[1]"
      ]
     },
     "execution_count": 3,
     "metadata": {},
     "output_type": "execute_result"
    }
   ],
   "source": [
    "pdb.write([{'paths': paths}])"
   ]
  },
  {
   "cell_type": "code",
   "execution_count": 4,
   "metadata": {},
   "outputs": [
    {
     "data": {
      "text/plain": [
       "1.0"
      ]
     },
     "execution_count": 4,
     "metadata": {},
     "output_type": "execute_result"
    }
   ],
   "source": [
    "paths.get_masses()"
   ]
  },
  {
   "cell_type": "code",
   "execution_count": 5,
   "metadata": {},
   "outputs": [],
   "source": [
    "aa = pdb.read(ids=[1])"
   ]
  }
 ],
 "metadata": {
  "kernelspec": {
   "display_name": "Python 3",
   "language": "python",
   "name": "python3"
  },
  "language_info": {
   "codemirror_mode": {
    "name": "ipython",
    "version": 3
   },
   "file_extension": ".py",
   "mimetype": "text/x-python",
   "name": "python",
   "nbconvert_exporter": "python",
   "pygments_lexer": "ipython3",
   "version": "3.7.10"
  }
 },
 "nbformat": 4,
 "nbformat_minor": 4
}
