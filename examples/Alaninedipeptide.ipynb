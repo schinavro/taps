{
 "cells": [
  {
   "cell_type": "markdown",
   "id": "ed4036b9",
   "metadata": {},
   "source": [
    "# Alanine dipeptide\n",
    "\n",
    "Alanine dipeptide is small organic molecule where its geometry is almost expressed with two collective variables, $\\phi$ and $\\psi$. $\\phi$ and $\\psi$ each indicates the diheadral angles (torsion) between centered $C$ atoms and its neighboring two atoms respectively. \n",
    "\n",
    "Here, we will going to find multiple pathways of the alaine dipeptide. We used ab initio package VASP, one can use other calculating using slight modification on `calc`. Coordinates system of the alanine dipeptide is\n",
    "```\n",
    "[-81.89, 71 -> 71.05, -60.29]\n",
    "C70 : phi = -8.537736562175269e-07 psi = 8.537736462515939e-07\n",
    "C7eq : phi = -81.89 psi = 74.0\n",
    "C7ax : phi = 71.05 psi = -59.29\n",
    "```"
   ]
  },
  {
   "cell_type": "code",
   "execution_count": 1,
   "id": "9816c2fe",
   "metadata": {},
   "outputs": [],
   "source": [
    "import numpy as np\n",
    "from taps.coords import Cartesian\n",
    "\n",
    "N = 300\n",
    "phi = np.linspace(-81.89, 71.05, N)\n",
    "psi = np.linspace( 74.05, -59.3, N)\n",
    "\n",
    "coords = Cartesian(coords=np.array([phi, psi])* np.pi / 180, epoch=6, unit='deg')"
   ]
  },
  {
   "cell_type": "markdown",
   "id": "2bdcb615",
   "metadata": {},
   "source": [
    "# Inverse Projector\n",
    "\n",
    " We have represented our system with two angles but to calculate potential energy surface (PES), it is essential to recovor original atomic geometry from collective variables. That is we need, for a given $\\theta$ and $\\psi$, we need a map that sends two coordinate into 22 atoms. Coordinates where we can calculate physical properties of it. Process of inverse projection is tedious, this prepared a pre-scripted code that exactly does that. This script generate the C70 coordinates which represents the $\\phi$ and $\\psi$ (0., 0.) and rotate the atoms to match to that angles. "
   ]
  },
  {
   "cell_type": "code",
   "execution_count": 3,
   "id": "f539f9fc",
   "metadata": {},
   "outputs": [
    {
     "name": "stdout",
     "output_type": "stream",
     "text": [
      "Before:  (2, 300)\n",
      "After :  (3, 22, 300)\n"
     ]
    }
   ],
   "source": [
    "from taps.projectors.alaninedipeptide import AlaninedipeptideInverse\n",
    "prj = AlaninedipeptideInverse()\n",
    "print(\"Before: \", coords.shape)\n",
    "print(\"After : \", prj.x(coords).shape)"
   ]
  },
  {
   "cell_type": "markdown",
   "id": "63df7b65",
   "metadata": {},
   "source": [
    "# Trajectory writing\n",
    "\n",
    "Someone might want to check this code is indeed working properly, one who want that, use the code below. \n",
    "\n",
    "```python\n",
    "from ase.atoms import Atoms\n",
    "image = Atoms('HCHHCONHCHCHHHCONHCHHH', cell=[15,15,15], pbc=True)\n",
    "new_coords = prj.x(coords)\n",
    "filename=\"test.traj\"\n",
    "from ase.io.trajectory import TrajectoryWriter\n",
    "trj = TrajectoryWriter(filename, mode=\"a\")\n",
    "N = new_coords.shape[-1]\n",
    "#image = self.image.copy()\n",
    "for n in range(N):\n",
    "    positions = new_coords[:, :, n].T\n",
    "    image.positions = positions\n",
    "    trj.write(image)\n",
    "```"
   ]
  },
  {
   "cell_type": "markdown",
   "id": "88ecec4c",
   "metadata": {},
   "source": [
    "# VASP calculator\n",
    "\n",
    " From the projected coordinates generated above, we are going to optimize the structure while keeping two dihedral angles. Our model will uses *ab initio* pacakge VASP. Unfortunatley, current implementation on `ASE` does not fully support all the functions on the VASP. Below codes inherits the original `Vasp` class in the ASE and modify slightly suits that suits our needs. For example, we are going to fix the dihedral angles which needs `ICONST`, we will generate that. Additionlly, to avoid similar calculation, if it finds the `OUTCAR` that has same coordinates withint 0.1 range, it uses that coordinates. \n",
    "\n",
    "<!---\n",
    "#from ase.calculators import calculator\n",
    "#properties=[\"free_energy\"]\n",
    "#all_changes = tuple(calculator.all_changes)\n",
    "#calc.write_input(image, ['free_energy'], all_changes)\n",
    "-->"
   ]
  },
  {
   "cell_type": "code",
   "execution_count": 4,
   "id": "28187b4a",
   "metadata": {},
   "outputs": [],
   "source": [
    "import os\n",
    "from ase.calculators.vasp import Vasp\n",
    "from ase.calculators.vasp.vasp import check_atoms\n",
    "from ase.calculators import calculator\n",
    "\n",
    "\n",
    "class Myvasp(Vasp):\n",
    "    def calculate(self, atoms=None, properties=('energy',),\n",
    "                  system_changes=tuple(calculator.all_changes)):\n",
    "        \"\"\"Do a VASP calculation in the specified directory.\n",
    "\n",
    "        This will generate the necessary VASP input files, and then\n",
    "        execute VASP. After execution, the energy, forces. etc. are read\n",
    "        from the VASP output files.\n",
    "        \"\"\"\n",
    "        check_atoms(atoms)\n",
    "        \n",
    "        self.clear_results()\n",
    "\n",
    "        if atoms is not None:\n",
    "            self.atoms = atoms.copy()\n",
    "\n",
    "        command = self.make_command(self.command)\n",
    "        self.write_input(self.atoms, properties, system_changes)\n",
    "\n",
    "        olddir = os.getcwd()\n",
    "        try:\n",
    "            os.chdir(self.directory)\n",
    "            if os.path.isfile('OUTCAR'):\n",
    "                print(self.prefix, 'exist')\n",
    "                errorcode = None\n",
    "                pass\n",
    "            else:\n",
    "                \n",
    "                #with open('ICONST', 'w') as f:\n",
    "                #    f.write('T 14 21 15 17 0\\nT 21 15 17 22 0')\n",
    "                with open('POSCAR', 'a+') as f:\n",
    "                    arr = np.random.normal(0, 0.1, (22, 3))\n",
    "                    f.write('\\n'.join('\\t'.join('%0.3f' %x for x in y) for y in arr))\n",
    "                # Create the text output stream and run VASP\n",
    "                os.chdir(olddir)\n",
    "                with self._txt_outstream() as out:\n",
    "\n",
    "                    errorcode = self._run(command=command, \n",
    "                                          out=out,\n",
    "                                          directory=self.directory)\n",
    "        finally:\n",
    "            os.chdir(olddir)\n",
    "\n",
    "        if errorcode:\n",
    "            raise CalculationFailed(\n",
    "                '{} in {} returned an error: {:d}'.format(\n",
    "                self.name, self.directory, errorcode))\n",
    "\n",
    "        # Read results from calculation\n",
    "        self.update_atoms(atoms)\n",
    "        self.read_results()\n",
    "\n",
    "calculator.register_calculator_class('Myvasp', Myvasp)"
   ]
  },
  {
   "cell_type": "markdown",
   "id": "f82d2750",
   "metadata": {},
   "source": [
    "# Atomic model\n",
    "\n",
    " For the atomic construction, we use Atomic Simulation Environment (ASE) package. With the `Atoms` class in the ASE, we can create `image`, instance of `Atoms` class, as reference atomic properties calculation. All the parameters in the `image` except the `positions` will be used in the data generation in the `AtomicModel`, TAPS. We pre-scripted the `Alainedipeptide` model class which inherits the `AtomicModel`, for special naming method of the atomic calculation for naming the results.  "
   ]
  },
  {
   "cell_type": "code",
   "execution_count": null,
   "id": "4346f9d8",
   "metadata": {},
   "outputs": [],
   "source": [
    "from ase.atoms import Atoms\n",
    "\n",
    "image = Atoms('HCHHCONHCHCHHHCONHCHHH', cell=[15,15,15], pbc=True)\n",
    "calc = Myvasp(prec='normal', algo='fast',\n",
    "                   command = 'mpirun -np 40 vasp_gam',\n",
    "                   nelmin=4, ncore=4, maxmix=20, ismear=0,\n",
    "                   isym=-1, istart=2,\n",
    "                   smass=-2,\n",
    "                  # ibrion=0, mdalgo=1, andersen_prob=0.05, potim=1, tebeg=0,nsw=1,\n",
    "                  ibrion=0, mdalgo=1, andersen_prob=0.05, potim=1, tebeg=0,nsw=500,\n",
    "                   ediffg= -0.001, encut=520, ediff=1e-5,\n",
    "                   isif=0, xc='pbe', ivdw=11, lcharg=True)\n",
    "\n",
    "image.set_velocities(np.random.normal(0, 0.1, (22, 3)))\n",
    "image.calc = calc"
   ]
  },
  {
   "cell_type": "code",
   "execution_count": 6,
   "id": "bd28ded2",
   "metadata": {},
   "outputs": [],
   "source": [
    "from taps.paths import Paths\n",
    "from taps.db.data import ImageData\n",
    "from taps.ml import Gaussian\n",
    "from taps.ml.kernels import PeriodicKernel\n",
    "from taps.model.atomicmodel import AlanineDipeptide\n",
    "model = AlanineDipeptide(image=image, prj=prj,\n",
    "                         set_directory=True, directory='./test/vasp/')\n",
    " \n",
    "hyperparameters = {'sigma_f': 1, 'sigma_n^f': 1e-4, \n",
    "                   'sigma_n^e':1e-4, 'l^2': 1}\n",
    "hyperparameters_bounds = {'sigma_f': (1e-6, 1e4), 'sigma_n^f': (1e-6, 1e-3), \n",
    "                          'sigma_n^e':(1e-5, 1e-3), 'l^2': (1e-4, 4)}\n",
    "model = Gaussian(real_model=model,\n",
    "                 kernel=PeriodicKernel(),\n",
    "                 hyperparameters=hyperparameters,\n",
    "                 hyperparameters_bounds=hyperparameters_bounds)\n",
    "\n",
    "directory = \"./test/\"\n",
    "imgdata = ImageData(\"./test/alaine_test.db\")\n",
    "paths = Paths(coords=coords, model=model, imgdata=imgdata)\n",
    "paths.add_data(index=[0, paths.N//2, -1])"
   ]
  },
  {
   "cell_type": "markdown",
   "id": "5d418b0a",
   "metadata": {},
   "source": [
    "# Paths construction"
   ]
  },
  {
   "cell_type": "code",
   "execution_count": 8,
   "id": "4e41415a",
   "metadata": {},
   "outputs": [],
   "source": [
    "from taps.visualize import view\n",
    "view(paths, viewer=\"Alaninedipeptide\", gaussian=True)"
   ]
  },
  {
   "cell_type": "code",
   "execution_count": 10,
   "id": "3fcae2d4",
   "metadata": {},
   "outputs": [
    {
     "data": {
      "text/plain": [
       "<taps.visualize.view at 0x2ba49237f7d0>"
      ]
     },
     "execution_count": 10,
     "metadata": {},
     "output_type": "execute_result"
    },
    {
     "data": {
      "image/png": "[encoded data removed]",
      "text/plain": [
       "<Figure size 540x432 with 2 Axes>"
      ]
     },
     "metadata": {
      "needs_background": "light"
     },
     "output_type": "display_data"
    },
    {
     "data": {
      "image/png": "[encoded data removed]",
      "text/plain": [
       "<Figure size 540x432 with 2 Axes>"
      ]
     },
     "metadata": {
      "needs_background": "light"
     },
     "output_type": "display_data"
    },
    {
     "data": {
      "image/png": "[encoded data removed]",
      "text/plain": [
       "<Figure size 540x432 with 2 Axes>"
      ]
     },
     "metadata": {
      "needs_background": "light"
     },
     "output_type": "display_data"
    },
    {
     "data": {
      "image/png": "[encoded data removed]",
      "text/plain": [
       "<Figure size 432x216 with 2 Axes>"
      ]
     },
     "metadata": {
      "needs_background": "light"
     },
     "output_type": "display_data"
    }
   ],
   "source": []
  },
  {
   "cell_type": "code",
   "execution_count": 11,
   "id": "d0982855",
   "metadata": {},
   "outputs": [
    {
     "data": {
      "text/plain": [
       "{'sigma_f': 0.8963721230341252,\n",
       " 'l^2': 1.3096166754610017,\n",
       " 'sigma_n^e': 8.918233340655752e-05,\n",
       " 'sigma_n^f': 8.810056674721327e-05}"
      ]
     },
     "execution_count": 11,
     "metadata": {},
     "output_type": "execute_result"
    }
   ],
   "source": [
    "paths.model.hyperparameters"
   ]
  },
  {
   "cell_type": "code",
   "execution_count": 12,
   "id": "c73f0f36",
   "metadata": {},
   "outputs": [],
   "source": [
    "import numpy as np\n",
    "from taps.coords import Cartesian\n",
    "\n",
    "N = 300\n",
    "phi = np.linspace(-81.89, 71.05, N)\n",
    "psi = np.linspace( 71.05, -60.29, N)\n",
    "\n",
    "coords = Cartesian(coords=np.array([phi, psi])* np.pi / 180, epoch=6, unit='deg')"
   ]
  },
  {
   "cell_type": "code",
   "execution_count": null,
   "id": "71afacc7",
   "metadata": {},
   "outputs": [],
   "source": [
    "from taps.paths import Paths\n",
    "from taps.db.data import ImageData\n",
    "from taps.ml import Gaussian\n",
    "from taps.ml.kernels import PeriodicKernel\n",
    "from taps.model.atomicmodel import AlanineDipeptide\n",
    "from taps.pathfinder import DAO, GPAO\n",
    "\n",
    "directory = \"./test/\"\n",
    "imgdata = ImageData(directory + \"alaine_test.db\")\n",
    "\n",
    "model = AlanineDipeptide(image=image, prj=prj,\n",
    "                         set_directory=True, directory='./test/vasp/')\n",
    " \n",
    "hyperparameters = {'sigma_f': 1, 'sigma_n^f': 1e-4, \n",
    "                   'sigma_n^e':1e-4, 'l^2': 1}\n",
    "hyperparameters_bounds = {'sigma_f': (1e-6, 1e4), 'sigma_n^f': (1e-6, 1e-3), \n",
    "                          'sigma_n^e':(1e-5, 1e-3), 'l^2': (1e-4, 4)}\n",
    "model = Gaussian(real_model=model,\n",
    "                 kernel=PeriodicKernel(),\n",
    "                 hyperparameters=hyperparameters,\n",
    "                 hyperparameters_bounds=hyperparameters_bounds)\n",
    "\n",
    "finder = DAO(prj_search=False, action_name=[\"Onsager Machlup\", \"Energy conservation\"],\n",
    "             Et=-129.8, muE=1., gam=1.)\n",
    "finder = GPAO(real_finder=finder, \n",
    "              label= directory + \"gpao_5/1\", phases=[\"auto et\"], \n",
    "              plot=view)\n",
    "\n",
    "paths = Paths(coords=coords, model=model, finder=finder, imgdata=imgdata)\n",
    "\n",
    "paths.add_data(index=[0, paths.N//2, -1])\n",
    "\n",
    "paths.search()\n",
    "\n",
    "#view(paths, viewer=\"Alaninedipeptide\", gaussian=True)"
   ]
  },
  {
   "cell_type": "markdown",
   "id": "d4cf950f",
   "metadata": {},
   "source": [
    "# Effective mass\n",
    "\n",
    "Since we are approximating the, kinetic energy becomes \n",
    "\n",
    "it shifts. AlanineGaussian"
   ]
  },
  {
   "cell_type": "code",
   "execution_count": null,
   "id": "fa66b22d",
   "metadata": {},
   "outputs": [],
   "source": [
    "from taps.model.alaninedipeptide import AlanineGaussian\n",
    "\n",
    "model = AlanineGaussian(real_model=model.real_model, kernel=Sine(),\n",
    "                        hyperparameters = {'sigma_f': 1, 'sigma_n^f': 1e-2, \n",
    "                                           'sigma_n^e':1e-6,'l^2': 0.1},\n",
    "                        hyperparameters_bounds = {'sigma_f': (1, 1), 'sigma_n^f': (1e-3, 1e-1), \n",
    "                                           'sigma_n^e':(1e-6, 1e-4), 'l^2': (1e-4, 4)})"
   ]
  },
  {
   "cell_type": "code",
   "execution_count": 23,
   "id": "8e1153a8",
   "metadata": {},
   "outputs": [],
   "source": [
    "calc.write_input(image, ['free_energy'], all_changes)"
   ]
  },
  {
   "cell_type": "code",
   "execution_count": null,
   "id": "509499dd",
   "metadata": {},
   "outputs": [],
   "source": [
    "from ase.calculator import calculator"
   ]
  },
  {
   "cell_type": "code",
   "execution_count": 16,
   "id": "3165ffce",
   "metadata": {},
   "outputs": [
    {
     "data": {
      "text/plain": [
       "('positions', 'numbers', 'cell', 'pbc', 'initial_charges', 'initial_magmoms')"
      ]
     },
     "execution_count": 16,
     "metadata": {},
     "output_type": "execute_result"
    }
   ],
   "source": [
    "\n",
    "tuple(calculator.all_changes)"
   ]
  },
  {
   "cell_type": "code",
   "execution_count": 15,
   "id": "53858ff6",
   "metadata": {},
   "outputs": [
    {
     "data": {
      "text/plain": [
       "array([6, 6])"
      ]
     },
     "execution_count": 15,
     "metadata": {},
     "output_type": "execute_result"
    }
   ],
   "source": [
    "5 + (np.array([1, 2]) < 4)"
   ]
  },
  {
   "cell_type": "code",
   "execution_count": null,
   "id": "9a866acf",
   "metadata": {},
   "outputs": [],
   "source": []
  },
  {
   "cell_type": "code",
   "execution_count": 26,
   "id": "bbb3a40a",
   "metadata": {},
   "outputs": [
    {
     "data": {
      "text/plain": [
       "array([[ 0.11521139, -0.04229535, -0.02673665],\n",
       "       [-0.04540874, -0.1071065 ,  0.09930575],\n",
       "       [-0.15032989, -0.01451226, -0.03128089],\n",
       "       [-0.13935848,  0.11298622, -0.10846736],\n",
       "       [ 0.11840371, -0.02380525,  0.03487724],\n",
       "       [ 0.0395002 ,  0.04408586, -0.0417576 ],\n",
       "       [-0.13077404,  0.00619305,  0.03044093],\n",
       "       [ 0.16051461, -0.11844937,  0.0777218 ],\n",
       "       [-0.15388187, -0.0592287 ,  0.15220838],\n",
       "       [ 0.05871047,  0.03282886,  0.04172938],\n",
       "       [ 0.01288722,  0.13164861, -0.17965177],\n",
       "       [-0.11095385, -0.07839192,  0.04201723],\n",
       "       [ 0.24567347,  0.17463638,  0.09762216],\n",
       "       [ 0.09855363,  0.1871649 ,  0.02309504],\n",
       "       [ 0.00157576,  0.12208455, -0.04897028],\n",
       "       [-0.31671403, -0.31146976,  0.04570274],\n",
       "       [ 0.0292931 , -0.15617332, -0.0260643 ],\n",
       "       [-0.27088246, -0.03723309, -0.0802822 ],\n",
       "       [ 0.0252782 , -0.02731277,  0.09481231],\n",
       "       [ 0.02925227,  0.03479341, -0.05307947],\n",
       "       [-0.02555791,  0.02123364, -0.01661956],\n",
       "       [ 0.03589674,  0.0581811 , -0.13298781]])"
      ]
     },
     "execution_count": 26,
     "metadata": {},
     "output_type": "execute_result"
    }
   ],
   "source": [
    "image.get_velocities()"
   ]
  },
  {
   "cell_type": "code",
   "execution_count": 36,
   "id": "9e33c0ef",
   "metadata": {},
   "outputs": [
    {
     "data": {
      "text/plain": [
       "array([[ 0.11613308, -0.04263372, -0.02695054],\n",
       "       [-0.54540442, -1.28645621,  1.19276132],\n",
       "       [-0.15153253, -0.01462836, -0.03153113],\n",
       "       [-0.14047334,  0.11389011, -0.1093351 ],\n",
       "       [ 1.42214692, -0.28592484,  0.41891057],\n",
       "       [ 0.63196363,  0.70532966, -0.66807991],\n",
       "       [-1.83175199,  0.08674609,  0.42638605],\n",
       "       [ 0.16179872, -0.11939696,  0.07834358],\n",
       "       [-1.84827509, -0.71139591,  1.82817491],\n",
       "       [ 0.05918016,  0.03309149,  0.04206322],\n",
       "       [ 0.15478845,  1.58123145, -2.15779742],\n",
       "       [-0.11184148, -0.07901905,  0.04235336],\n",
       "       [ 0.24763886,  0.17603347,  0.09840314],\n",
       "       [ 0.09934206,  0.18866222,  0.0232798 ],\n",
       "       [ 0.01892643,  1.46635754, -0.58818208],\n",
       "       [-5.06710772, -4.98320469,  0.73119816],\n",
       "       [ 0.41030849, -2.18751971, -0.36508261],\n",
       "       [-0.27304952, -0.03753095, -0.08092446],\n",
       "       [ 0.30361644, -0.32805366,  1.1387906 ],\n",
       "       [ 0.02948629,  0.03507175, -0.0535041 ],\n",
       "       [-0.02576238,  0.02140351, -0.01675251],\n",
       "       [ 0.03618391,  0.05864655, -0.13405171]])"
      ]
     },
     "execution_count": 36,
     "metadata": {},
     "output_type": "execute_result"
    }
   ],
   "source": [
    "image.set_momenta()"
   ]
  },
  {
   "cell_type": "code",
   "execution_count": 29,
   "id": "71ae6d91",
   "metadata": {},
   "outputs": [
    {
     "data": {
      "text/plain": [
       "Atom('H', [3.1237571510408344, 8.746213759090187, 7.978653697279056], momentum=[0.1161330776204833, -0.04263371720783947, -0.026950540839431526], index=0)"
      ]
     },
     "execution_count": 29,
     "metadata": {},
     "output_type": "execute_result"
    }
   ],
   "source": [
    "atom = image[0]\n",
    "atom"
   ]
  },
  {
   "cell_type": "code",
   "execution_count": 31,
   "id": "e385a8ce",
   "metadata": {},
   "outputs": [
    {
     "data": {
      "text/plain": [
       "array([ 0.11613308, -0.04263372, -0.02695054])"
      ]
     },
     "execution_count": 31,
     "metadata": {},
     "output_type": "execute_result"
    }
   ],
   "source": [
    "atom.momentum"
   ]
  },
  {
   "cell_type": "markdown",
   "id": "d6794397",
   "metadata": {},
   "source": [
    "# VASP Alanine dipeptide with velocity applied\n",
    "\n"
   ]
  },
  {
   "cell_type": "code",
   "execution_count": null,
   "id": "9bc0f649",
   "metadata": {},
   "outputs": [],
   "source": [
    "# VASP Model\n",
    "from ase.calculators.vaspnode import Vaspnode\n",
    "from ase.calculators.calculator import register_calculator_class\n",
    "register_calculator_class('Vaspnode', Vaspnode)\n",
    "# label='/group/schinavro/alanine/vasp_periodic/dyn/dyn'\n",
    "vasp = Vaspnode(   prec='normal', algo='fast',\n",
    "                   command = 'vasp_gam',\n",
    "                   nelmin=4, ncore=4, maxmix=20, ismear=0,\n",
    "                   isym=-1, istart=0,\n",
    "                   smass=-2,\n",
    "                   ibrion=0, mdalgo=1, andersen_prob=0.05, potim=1, tebeg=0,nsw=500,\n",
    "                   ediffg= -0.001, encut=520, ediff=1e-5,\n",
    "                   isif=0, xc='pbe', ivdw=11, lcharg=False)\n",
    "import numpy as np\n",
    "from ase.pathway.paths import Paths\n",
    "from ase.pathway.model import FlatModel\n",
    "from ase.pathway.data import AtomsData\n",
    "from ase.pathway.pathfinder import ADMD\n",
    "from ase.pathway.plotter import FlatModelPlotter\n",
    "\n",
    "from ase.pathway.gaussian import Gaussian, GaussianSearch\n",
    "N = 300\n",
    "x, y = np.linspace(-1, 1, N), np.linspace(-1, 1, N)\n",
    "coords = np.array([[x], [y]])\n",
    "directory = '/group/schinavro/flatTest/test9'\n",
    "prefix = 'test'\n",
    "model = FlatModel()\n",
    "model = Gaussian(real_model=model,\n",
    "                 hyperparameters = {'sigma_f': 1, 'sigma_n^f': 1e-2, 'sigma_n^e':1e-6,'l^2': 0.1},\n",
    "                 hyperparameters_bounds = {'sigma_f': (1, 1), 'sigma_n^f': (1e-3, 1e-1), 'sigma_n^e':(1e-6, 1e-4), 'l^2': (1e-4, 4)})\n",
    "finder = ADMD(action_name=['Onsager Machlup'], tol=0.005)\n",
    "finder = GaussianSearch(real_finder=finder, phases=['auto et'])\n",
    "atomsdata = AtomsData(filename=directory + '/descriptor.db')\n",
    "plotter = FlatModelPlotter(mapfile=directory + '/plotter_map.pkl')\n",
    "paths = Paths('H', coords, label=directory + '/' + prefix,\n",
    "              model=model,\n",
    "              finder=finder,\n",
    "              plotter=plotter)"
   ]
  },
  {
   "cell_type": "code",
   "execution_count": null,
   "id": "0de15ed6",
   "metadata": {},
   "outputs": [],
   "source": [
    "from taps.model.alanine import AlaninedipeptideModel\n",
    "from taps.ml import Gaussian\n",
    "\n",
    "\n",
    "\n",
    "vasp = Vaspnode(   prec='normal', algo='fast',\n",
    "                   command = 'vasp_gam',\n",
    "                   nelmin=4, ncore=4, maxmix=20, ismear=0,\n",
    "                   isym=-1, istart=0,\n",
    "                   smass=-2,\n",
    "                   ibrion=0, mdalgo=1, andersen_prob=0.05, potim=1, tebeg=0,nsw=500,\n",
    "                   ediffg= -0.001, encut=520, ediff=1e-5,\n",
    "                   isif=0, xc='pbe', ivdw=11, lcharg=False)\n",
    "\n",
    "model = AlaninedipeptideModel(\"\")\n",
    "model = Gaussian(real_model=model, hyperparameters...)\n"
   ]
  },
  {
   "cell_type": "code",
   "execution_count": null,
   "id": "e78d4eed",
   "metadata": {},
   "outputs": [],
   "source": [
    "paths.add_data(\"djafh\")"
   ]
  },
  {
   "cell_type": "code",
   "execution_count": null,
   "id": "0662ffb6",
   "metadata": {},
   "outputs": [],
   "source": [
    "from taps.pathfinder import DAO\n",
    "\n",
    "finder = DAO()\n",
    "\n",
    "finder = GPAO(real_finder = finder, ...)\n",
    "\n",
    "\n",
    "paths.finder = finder"
   ]
  },
  {
   "cell_type": "code",
   "execution_count": null,
   "id": "ce0d1d5a",
   "metadata": {},
   "outputs": [],
   "source": []
  },
  {
   "cell_type": "code",
   "execution_count": null,
   "id": "7151256c",
   "metadata": {},
   "outputs": [],
   "source": [
    "def calculate(self, atoms=None, properties=['energy'],\n",
    "                  system_changes=all_changes):\n",
    "        \"\"\"Do a VASP calculation in the specified directory.\n",
    "\n",
    "        This will generate the necessary VASP input files, and then\n",
    "        execute VASP. After execution, the energy, forces. etc. are read\n",
    "        from the VASP output files.\n",
    "        \"\"\"\n",
    "\n",
    "        if atoms is not None:\n",
    "            self.atoms = atoms.copy()\n",
    "\n",
    "        self.check_cell()      # Check for zero-length lattice vectors\n",
    "        self._xml_data = None     # Reset the stored data\n",
    "\n",
    "        command = self.make_command(self.command)\n",
    "        self.write_input(self.atoms, properties, system_changes)\n",
    "\n",
    "        olddir = os.getcwd()\n",
    "        try:\n",
    "            os.chdir(self.directory)\n",
    "            if os.path.isfile('OUTCAR'):\n",
    "                print(self.prefix, 'exist')\n",
    "                errorcode = None\n",
    "                pass\n",
    "            else:\n",
    "                with open('ICONST', 'w') as f:\n",
    "                    f.write('T 14 21 15 17 0\\nT 21 15 17 22 0')\n",
    "                with open('POSCAR', 'a+') as f:\n",
    "                    arr = np.random.normal(0, 0.1, (22, 3))\n",
    "                    f.write('\\n'.join('\\t'.join('%0.3f' %x for x in y) for y in arr))\n",
    "                # Create the text output stream and run VASP\n",
    "                with self.txt_outstream() as out:\n",
    "                    errorcode = self._run(command=command, out=out)\n",
    "            \n",
    "        finally:\n",
    "            os.chdir(olddir)\n",
    "\n",
    "        if errorcode:\n",
    "            raise CalculationFailed('{} in {} returned an error: {:d}'.format(\n",
    "                self.name, self.directory, errorcode))\n",
    "\n",
    "        # Read results from calculation\n",
    "        self.update_atoms(atoms)\n",
    "        self.read_results()\n"
   ]
  },
  {
   "cell_type": "markdown",
   "id": "18879fbe",
   "metadata": {},
   "source": [
    "# Atoms\n",
    "\n",
    "image"
   ]
  },
  {
   "cell_type": "code",
   "execution_count": 8,
   "id": "3b2fb758",
   "metadata": {},
   "outputs": [
    {
     "ename": "NameError",
     "evalue": "name 'image' is not defined",
     "output_type": "error",
     "traceback": [
      "\u001b[0;31m---------------------------------------------------------------------------\u001b[0m",
      "\u001b[0;31mNameError\u001b[0m                                 Traceback (most recent call last)",
      "\u001b[0;32m<ipython-input-8-28935580a9bb>\u001b[0m in \u001b[0;36m<module>\u001b[0;34m\u001b[0m\n\u001b[0;32m----> 1\u001b[0;31m \u001b[0mimage\u001b[0m\u001b[0;34m\u001b[0m\u001b[0;34m\u001b[0m\u001b[0m\n\u001b[0m",
      "\u001b[0;31mNameError\u001b[0m: name 'image' is not defined"
     ]
    }
   ],
   "source": [
    "image"
   ]
  },
  {
   "cell_type": "markdown",
   "id": "92361d0f",
   "metadata": {},
   "source": [
    "# Velocity writing\n",
    "\n"
   ]
  },
  {
   "cell_type": "code",
   "execution_count": null,
   "id": "e12dc848",
   "metadata": {},
   "outputs": [],
   "source": [
    "from ase.vasp.vasp import Vasp\n",
    "\n",
    "Vasp"
   ]
  },
  {
   "cell_type": "code",
   "execution_count": null,
   "id": "bc023f12",
   "metadata": {},
   "outputs": [],
   "source": [
    "population.........\n",
    "\n"
   ]
  },
  {
   "cell_type": "markdown",
   "id": "1c9bc4ab",
   "metadata": {},
   "source": [
    "# Inverse mask\n",
    "\n",
    "To reduce the masking process it is better to do everything in the masked space...... but no\n",
    "\n",
    "Alanine dipeptide inverse mask projector, we send phi psi to full coordinates. Because of this coordinates are not stable, we relaxed through the ??\n",
    "\n"
   ]
  },
  {
   "cell_type": "markdown",
   "id": "1ddad3b9",
   "metadata": {},
   "source": [
    "# I have to run that... with new code scheme"
   ]
  },
  {
   "cell_type": "code",
   "execution_count": null,
   "id": "289deb6d",
   "metadata": {},
   "outputs": [],
   "source": [
    "from taps.coords import Coords\n",
    "\n",
    "coords = np.ze"
   ]
  }
 ],
 "metadata": {
  "kernelspec": {
   "display_name": "py37",
   "language": "python",
   "name": "py37"
  },
  "language_info": {
   "codemirror_mode": {
    "name": "ipython",
    "version": 3
   },
   "file_extension": ".py",
   "mimetype": "text/x-python",
   "name": "python",
   "nbconvert_exporter": "python",
   "pygments_lexer": "ipython3",
   "version": "3.7.10"
  }
 },
 "nbformat": 4,
 "nbformat_minor": 5
}
